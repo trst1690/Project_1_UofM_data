{
 "cells": [
  {
   "cell_type": "code",
   "execution_count": null,
   "id": "cd12b722",
   "metadata": {},
   "outputs": [],
   "source": [
    "# Import dependencies\n",
    "import pandas as pd\n",
    "import numpy as np\n",
    "import matplotlib.pyplot as plt\n",
    "from config import api_key\n",
    "import requests\n",
    "import json"
   ]
  },
  {
   "cell_type": "code",
   "execution_count": null,
   "id": "a6e8de4a",
   "metadata": {},
   "outputs": [],
   "source": [
    "# Locate CSV files and convert to dataframes\n",
    "STATE_DATA_PATH = \"Resources/MN_2020_ADI_9 Digit Zip Code_v3.2.csv\"\n",
    "LOCAL_DATA_PATH = \"Resources/Local_Repository_Data.csv\"\n",
    "PT_DATA_PATH = \"Resources/Patient_Data.csv\"\n",
    "\n",
    "state_df = pd.read_csv(STATE_DATA_PATH)\n",
    "local_df = pd.read_csv(LOCAL_DATA_PATH)\n",
    "pt_df = pd.read_csv(PT_DATA_PATH)"
   ]
  },
  {
   "cell_type": "markdown",
   "id": "1e92009b",
   "metadata": {},
   "source": [
    "# DATA CLEANING\n",
    "---\n",
    "state_df cleaning"
   ]
  },
  {
   "cell_type": "code",
   "execution_count": null,
   "id": "736d257c",
   "metadata": {},
   "outputs": [],
   "source": [
    "state_df.head()"
   ]
  },
  {
   "cell_type": "code",
   "execution_count": null,
   "id": "27286604",
   "metadata": {},
   "outputs": [],
   "source": [
    "# Number of zip codes in state_df\n",
    "print(f\"There are {state_df.shape[0]} MN zip codes in state_df\")"
   ]
  },
  {
   "cell_type": "code",
   "execution_count": null,
   "id": "6906f5d3",
   "metadata": {},
   "outputs": [],
   "source": [
    "# Drop unwanted columns from state_df\n",
    "clean_state_df = state_df.drop([\"GISJOIN\", \"FIPS\", \"TYPE\"], axis=1)\n",
    "clean_state_df.head()"
   ]
  },
  {
   "cell_type": "code",
   "execution_count": null,
   "id": "90000477",
   "metadata": {},
   "outputs": [],
   "source": [
    "# Find bad data to drop\n",
    "clean_state_df[\"ADI_STATERANK\"].unique()"
   ]
  },
  {
   "cell_type": "code",
   "execution_count": null,
   "id": "efabec8e",
   "metadata": {},
   "outputs": [],
   "source": [
    "# Drop bad data\n",
    "clean_state_df = clean_state_df.loc[(clean_state_df[\"ADI_STATERANK\"] != \"GQ\") &\n",
    "                                    (state_df[\"ADI_STATERANK\"] != \"PH\") &\n",
    "                                    (state_df[\"ADI_STATERANK\"] != \"GQ-PH\")]\n",
    "clean_state_df[\"ADI_STATERANK\"].unique()"
   ]
  },
  {
   "cell_type": "code",
   "execution_count": null,
   "id": "ad929d23",
   "metadata": {},
   "outputs": [],
   "source": [
    "# Drop NaN data\n",
    "clean_state_df = clean_state_df.dropna()"
   ]
  },
  {
   "cell_type": "code",
   "execution_count": null,
   "id": "3f138ada",
   "metadata": {},
   "outputs": [],
   "source": [
    "# Confirm that all bad data is dropped from ADI_STATERANK column\n",
    "clean_state_df[\"ADI_STATERANK\"].unique()"
   ]
  },
  {
   "cell_type": "code",
   "execution_count": null,
   "id": "c64df52b",
   "metadata": {},
   "outputs": [],
   "source": [
    "# Confirm that all bad data is dropped from ADI_NATRANK column\n",
    "clean_state_df[\"ADI_NATRANK\"].unique()"
   ]
  },
  {
   "cell_type": "code",
   "execution_count": null,
   "id": "ddba6d8e",
   "metadata": {},
   "outputs": [],
   "source": [
    "# Reset the index after dropping rows\n",
    "clean_state_df = clean_state_df.reset_index(drop=True)\n",
    "clean_state_df.head()"
   ]
  },
  {
   "cell_type": "code",
   "execution_count": null,
   "id": "670498fc",
   "metadata": {},
   "outputs": [],
   "source": [
    "# Print number of rows that were dropped during data cleaning\n",
    "print(f\"{state_df.shape[0] - clean_state_df.shape[0]} rows were dropped from state_df during data cleaning.\")"
   ]
  },
  {
   "cell_type": "code",
   "execution_count": null,
   "id": "ed168bbd",
   "metadata": {},
   "outputs": [],
   "source": [
    "# Rename zip code column name to match the pt_data_df\n",
    "clean_state_df = clean_state_df.rename(columns={\"ZIP_4\": \"Zip Code (9-digit)\"})\n",
    "clean_state_df.head()"
   ]
  },
  {
   "cell_type": "markdown",
   "id": "327e4de0",
   "metadata": {},
   "source": [
    "---\n",
    "local_df cleaning"
   ]
  },
  {
   "cell_type": "code",
   "execution_count": null,
   "id": "f3508d80",
   "metadata": {},
   "outputs": [],
   "source": [
    "local_df.head()"
   ]
  },
  {
   "cell_type": "code",
   "execution_count": null,
   "id": "cdc877d2",
   "metadata": {},
   "outputs": [],
   "source": [
    "# Print the number of repositories\n",
    "print(f\"RoundtableRx has {local_df.shape[0]} local repositories where patients can get their medications.\")"
   ]
  },
  {
   "cell_type": "code",
   "execution_count": null,
   "id": "3d4e75b7",
   "metadata": {},
   "outputs": [],
   "source": [
    "# Drop unwanted columns\n",
    "clean_local_df = local_df.drop(\"Established\", axis=1)\n",
    "clean_local_df.head()"
   ]
  },
  {
   "cell_type": "code",
   "execution_count": null,
   "id": "eaeb0430",
   "metadata": {},
   "outputs": [],
   "source": [
    "# Check for bad data\n",
    "clean_local_df[\"Zip Code (5-digit)\"].unique()"
   ]
  },
  {
   "cell_type": "code",
   "execution_count": null,
   "id": "7bbb23fb",
   "metadata": {},
   "outputs": [],
   "source": [
    "# Check for bad data\n",
    "clean_local_df[\"Zip Code (9-digit)\"].unique()"
   ]
  },
  {
   "cell_type": "markdown",
   "id": "ff641c7e",
   "metadata": {},
   "source": [
    "----\n",
    "pt_df cleaning"
   ]
  },
  {
   "cell_type": "code",
   "execution_count": null,
   "id": "14367729",
   "metadata": {},
   "outputs": [],
   "source": [
    "pt_df.head()"
   ]
  },
  {
   "cell_type": "code",
   "execution_count": null,
   "id": "b95ccb20",
   "metadata": {},
   "outputs": [],
   "source": [
    "# RoundtableRx serves 133 unique patients\n",
    "print(f\"RoundtableRx serves {pt_df.shape[0]} unique patients.\")"
   ]
  },
  {
   "cell_type": "code",
   "execution_count": null,
   "id": "f190dd29",
   "metadata": {},
   "outputs": [],
   "source": [
    "# Drop unwanted columns\n",
    "clean_pt_df = pt_df.drop(\"Date Started or Renewed\", axis=1)\n",
    "clean_pt_df.head()"
   ]
  },
  {
   "cell_type": "code",
   "execution_count": null,
   "id": "10246808",
   "metadata": {},
   "outputs": [],
   "source": [
    "# Check for bad data\n",
    "clean_pt_df[\"Zip Code (5-digit)\"].unique()"
   ]
  },
  {
   "cell_type": "code",
   "execution_count": null,
   "id": "4ff1e1ce",
   "metadata": {},
   "outputs": [],
   "source": [
    "# Check for bad data\n",
    "clean_pt_df[\"Zip Code (9-digit)\"].unique()"
   ]
  },
  {
   "cell_type": "code",
   "execution_count": null,
   "id": "6fa102e5",
   "metadata": {},
   "outputs": [],
   "source": [
    "# Drop bad data\n",
    "clean_pt_df = clean_pt_df.loc[(clean_pt_df[\"Zip Code (9-digit)\"] != \"??\") & (clean_pt_df[\"Zip Code (5-digit)\"] != \"??\")]\n",
    "clean_pt_df.head()"
   ]
  },
  {
   "cell_type": "code",
   "execution_count": null,
   "id": "3a5bb402",
   "metadata": {},
   "outputs": [],
   "source": [
    "# Reset the index after dropping rows\n",
    "clean_pt_df = clean_pt_df.reset_index(drop=True)\n",
    "clean_pt_df.head()"
   ]
  },
  {
   "cell_type": "code",
   "execution_count": null,
   "id": "2f910d1e",
   "metadata": {},
   "outputs": [],
   "source": [
    "# Print number of pts lost during data cleaning\n",
    "print(f\"{pt_df.shape[0] - clean_pt_df.shape[0]} patients were dropped during data cleaning.\")"
   ]
  },
  {
   "cell_type": "markdown",
   "id": "7e019e52",
   "metadata": {},
   "source": [
    "# Data Merging"
   ]
  },
  {
   "cell_type": "code",
   "execution_count": null,
   "id": "24624565",
   "metadata": {},
   "outputs": [],
   "source": [
    "# Before merging clean_pt_df and clean_state_df, ensure that common column is of the same dtype\n",
    "clean_pt_df['Zip Code (9-digit)'] = clean_pt_df['Zip Code (9-digit)'].astype(int)\n",
    "clean_state_df['Zip Code (9-digit)'] = clean_state_df['Zip Code (9-digit)'].astype(int)"
   ]
  },
  {
   "cell_type": "code",
   "execution_count": null,
   "id": "c44458e7",
   "metadata": {},
   "outputs": [],
   "source": [
    "# Merge clean_pt_df and clean_state_df so that we can get the ADI rank of each patient\n",
    "pt_adi_df = pd.merge(clean_pt_df,clean_state_df, how=\"inner\", on=[\"Zip Code (9-digit)\", \"Zip Code (9-digit)\"])\n",
    "pt_adi_df.head()"
   ]
  },
  {
   "cell_type": "code",
   "execution_count": null,
   "id": "b47c2b13",
   "metadata": {},
   "outputs": [],
   "source": [
    "# Print number of pts lost during data merging\n",
    "print(f\"{clean_pt_df.shape[0] - pt_adi_df.shape[0]} patients were dropped during data merging.\")"
   ]
  },
  {
   "cell_type": "code",
   "execution_count": null,
   "id": "aafac635",
   "metadata": {},
   "outputs": [],
   "source": [
    "# Determine total number of patients with ADI ranks we can analyze\n",
    "total_pts = pt_adi_df[\"Patient ID\"].count()\n",
    "print(f\"ADI ranks are available for {total_pts} of RoundtableRx's patients.\")"
   ]
  },
  {
   "cell_type": "code",
   "execution_count": null,
   "id": "346a008e",
   "metadata": {},
   "outputs": [],
   "source": [
    "# Before merging clean_local_df and clean_state_df, ensure that common column is of the same dtype\n",
    "clean_local_df['Zip Code (9-digit)'] = clean_local_df['Zip Code (9-digit)'].astype(int)"
   ]
  },
  {
   "cell_type": "code",
   "execution_count": null,
   "id": "1e295395",
   "metadata": {},
   "outputs": [],
   "source": [
    "# Merge clean_local_df and clean_state_df so that we can get the ADI rank of each local repository\n",
    "local_adi_df = pd.merge(clean_local_df,clean_state_df, how=\"left\", on=[\"Zip Code (9-digit)\", \"Zip Code (9-digit)\"])\n",
    "local_adi_df"
   ]
  },
  {
   "cell_type": "markdown",
   "id": "6f1ec9d8",
   "metadata": {},
   "source": [
    "1.using geoapify (https://apidocs.geoapify.com/docs/geocoding/forward-geocoding/#geocode-zipcodes) add lat and lon columns as well get a county column to pt_adi_df and local_adi_df. get county column added to clean_state_df.\n",
    "    - Ayan\n",
    "    Travis\n",
    "\n",
    "make the maps\n",
    "\n",
    "2. get mean, mode for pt_adi_df ADI_STATERANK and ADI_NATRANK\n",
    "    - Kokoe\n",
    "\n",
    "make bar charts y = # of pts, x = ADIs core for pt_adi_df. state ranks only\n",
    "    - Roli\n",
    "\n",
    "3. pie chart ADI scores\n",
    "    - Joanna\n",
    "\n",
    "4. health access / health outcomes vs adi score per county\n",
    "\n",
    "to create a new branch:     git checkout -b new-branch-name\n",
    "to push to a branch:        git push origin new-branch-name\n",
    "\n",
    "10 AM GROUP ON SATURDAY\n",
    "\n",
    "2:30 GROUP ON SATURDAY\n"
   ]
  },
  {
   "cell_type": "code",
   "execution_count": null,
   "id": "e6fdc1eb",
   "metadata": {},
   "outputs": [],
   "source": [
    "local_adi_df[\"LAT\"]=\"\"\n",
    "local_adi_df[\"LONG\"] =\"\"\n",
    "local_adi_df[\"County\"]= \"\"\n",
    "local_adi_df"
   ]
  },
  {
   "cell_type": "code",
   "execution_count": null,
   "id": "038215e2",
   "metadata": {},
   "outputs": [],
   "source": [
    "for index, row in local_adi_df.iterrows():\n",
    "    # Loop through zip codes\n",
    "    zip_code = local_adi_df.loc[index, \"Zip Code (5-digit)\"]\n",
    "    # define target url\n",
    "    target_url = f\"https://api.geoapify.com/v1/geocode/search?text={zip_code}&lang=en&limit=10&type=postcode&filter=countrycode:us&apiKey={api_key}\"\n",
    "    #get lat, lon, county\n",
    "    latitude = local_adi_df.loc[index, \"LAT\"]\n",
    "    longitude = local_adi_df.loc[index, \"LONG\"]\n",
    "    county = local_adi_df.loc[index, \"County\"]\n",
    "    # make API request\n",
    "    response = requests.get(target_url).json()\n",
    "    try:\n",
    "        local_adi_df.loc[index, \"LAT\"] = response[\"features\"][0][\"properties\"][\"lat\"]\n",
    "        local_adi_df.loc[index, \"LONG\"] = response[\"features\"][0][\"properties\"][\"lon\"]\n",
    "        local_adi_df.loc[index, \"County\"] = response[\"features\"][0][\"properties\"][\"county\"]\n",
    "    except:\n",
    "        local_adi_df.loc[index, \"LAT\"] = \"Not Found\"\n",
    "        local_adi_df.loc[index, \"LONG\"] = \"Not Found\"\n",
    "        local_adi_df.loc[index, \"County\"] = \"Not Found\"\n",
    "        \n",
    "local_adi_df\n",
    "        "
   ]
  },
  {
   "cell_type": "code",
   "execution_count": null,
   "id": "f3a5b3fe",
   "metadata": {},
   "outputs": [],
   "source": [
    "# Create a function to add latitude, longitude, and County columns to the state, local, and pt dataframes\n",
    "def column_creation(dataframe):\n",
    "    dataframe[\"LAT\"]=\"\"\n",
    "    dataframe[\"LONG\"] =\"\"\n",
    "    dataframe[\"County\"]= \"\"  "
   ]
  },
  {
   "cell_type": "code",
   "execution_count": null,
   "id": "5e1c1d4f",
   "metadata": {},
   "outputs": [],
   "source": [
    "# Run column_creation function on pt_adi_df\n",
    "column_creation(pt_adi_df)\n",
    "pt_adi_df.head()"
   ]
  },
  {
   "cell_type": "code",
   "execution_count": null,
   "id": "71dd2822",
   "metadata": {},
   "outputs": [],
   "source": [
    "# Run column_creation function on local_adi_df\n",
    "column_creation(local_adi_df)\n",
    "local_adi_df.head()"
   ]
  },
  {
   "cell_type": "code",
   "execution_count": null,
   "id": "24da48c1",
   "metadata": {},
   "outputs": [],
   "source": [
    "# Run column_creation function on clean_state_df\n",
    "column_creation(clean_state_df)\n",
    "clean_state_df.head()"
   ]
  },
  {
   "cell_type": "code",
   "execution_count": null,
   "id": "e449c7eb",
   "metadata": {},
   "outputs": [],
   "source": [
    "# Create a function to populate empty columns on state, local, and pt dataframes\n",
    "def location_info(dataframe):\n",
    "    for index, row in dataframe.iterrows():\n",
    "        # Loop through zip codes\n",
    "        zip_code = dataframe.loc[index, \"Zip Code (5-digit)\"]\n",
    "        # define target url\n",
    "        target_url = f\"https://api.geoapify.com/v1/geocode/search?text={zip_code}&lang=en&limit=10&type=postcode&filter=countrycode:us&apiKey={api_key}\"\n",
    "        #get lat, lon, county\n",
    "        latitude = dataframe.loc[index, \"LAT\"]\n",
    "        longitude = dataframe.loc[index, \"LONG\"]\n",
    "        county = dataframe.loc[index, \"County\"]\n",
    "        # make API request\n",
    "        response = requests.get(target_url).json()\n",
    "        try:\n",
    "            dataframe.loc[index, \"LAT\"] = response[\"features\"][0][\"properties\"][\"lat\"]\n",
    "            dataframe.loc[index, \"LONG\"] = response[\"features\"][0][\"properties\"][\"lon\"]\n",
    "            dataframe.loc[index, \"County\"] = response[\"features\"][0][\"properties\"][\"county\"]\n",
    "            print(f\"{zip_code} found\")\n",
    "        except:\n",
    "            dataframe.loc[index, \"LAT\"] = \"Not Found\"\n",
    "            dataframe.loc[index, \"LONG\"] = \"Not Found\"\n",
    "            dataframe.loc[index, \"County\"] = \"Not Found\"\n",
    "            print(f\"{zip_code} NOT found\")\n"
   ]
  },
  {
   "cell_type": "code",
   "execution_count": null,
   "id": "97a197b3",
   "metadata": {},
   "outputs": [],
   "source": [
    "# Run location_info function on local_adi_df\n",
    "location_info(local_adi_df)\n",
    "local_adi_df"
   ]
  },
  {
   "cell_type": "code",
   "execution_count": null,
   "id": "21296d19",
   "metadata": {},
   "outputs": [],
   "source": [
    "# Run location_info function on pt_adi_df\n",
    "location_info(pt_adi_df)\n",
    "pt_adi_df"
   ]
  },
  {
   "cell_type": "code",
   "execution_count": null,
   "id": "0ccdd255",
   "metadata": {},
   "outputs": [],
   "source": [
    "# Run location_info function on clean_state_df\n",
    "location_info(clean_state_df)\n",
    "clean_state_df.head()"
   ]
  }
 ],
 "metadata": {
  "kernelspec": {
   "display_name": "Python 3 (ipykernel)",
   "language": "python",
   "name": "python3"
  },
  "language_info": {
   "codemirror_mode": {
    "name": "ipython",
    "version": 3
   },
   "file_extension": ".py",
   "mimetype": "text/x-python",
   "name": "python",
   "nbconvert_exporter": "python",
   "pygments_lexer": "ipython3",
   "version": "3.10.10"
  }
 },
 "nbformat": 4,
 "nbformat_minor": 5
}

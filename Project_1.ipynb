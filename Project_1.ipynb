{
 "cells": [
  {
   "cell_type": "code",
   "execution_count": 1,
   "id": "cd12b722",
   "metadata": {},
   "outputs": [],
   "source": [
    "# Import dependencies\n",
    "import pandas as pd\n",
    "import numpy as np\n",
    "from config import api_key\n",
    "import matplotlib.pyplot as plt "
   ]
  },
  {
   "cell_type": "code",
   "execution_count": 2,
   "id": "a6e8de4a",
   "metadata": {},
   "outputs": [
    {
     "name": "stderr",
     "output_type": "stream",
     "text": [
      "C:\\Users\\rolis\\AppData\\Local\\Temp\\ipykernel_29264\\2531968484.py:6: DtypeWarning: Columns (3,4) have mixed types. Specify dtype option on import or set low_memory=False.\n",
      "  state_df = pd.read_csv(STATE_DATA_PATH)\n"
     ]
    }
   ],
   "source": [
    "# Locate CSV files and convert to dataframes\n",
    "STATE_DATA_PATH = \"Resources/MN_2020_ADI_9 Digit Zip Code_v3.2.csv\"\n",
    "LOCAL_DATA_PATH = \"Resources/Local_Repository_Data.csv\"\n",
    "PT_DATA_PATH = \"Resources/Patient_Data.csv\"\n",
    "\n",
    "state_df = pd.read_csv(STATE_DATA_PATH)\n",
    "local_df = pd.read_csv(LOCAL_DATA_PATH)\n",
    "pt_df = pd.read_csv(PT_DATA_PATH)"
   ]
  },
  {
   "cell_type": "markdown",
   "id": "1e92009b",
   "metadata": {},
   "source": [
    "# DATA CLEANING\n",
    "---\n",
    "state_df cleaning"
   ]
  },
  {
   "cell_type": "code",
   "execution_count": 3,
   "id": "736d257c",
   "metadata": {},
   "outputs": [
    {
     "data": {
      "text/html": [
       "<div>\n",
       "<style scoped>\n",
       "    .dataframe tbody tr th:only-of-type {\n",
       "        vertical-align: middle;\n",
       "    }\n",
       "\n",
       "    .dataframe tbody tr th {\n",
       "        vertical-align: top;\n",
       "    }\n",
       "\n",
       "    .dataframe thead th {\n",
       "        text-align: right;\n",
       "    }\n",
       "</style>\n",
       "<table border=\"1\" class=\"dataframe\">\n",
       "  <thead>\n",
       "    <tr style=\"text-align: right;\">\n",
       "      <th></th>\n",
       "      <th>ZIP_4</th>\n",
       "      <th>GISJOIN</th>\n",
       "      <th>FIPS</th>\n",
       "      <th>ADI_NATRANK</th>\n",
       "      <th>ADI_STATERANK</th>\n",
       "      <th>TYPE</th>\n",
       "    </tr>\n",
       "  </thead>\n",
       "  <tbody>\n",
       "    <tr>\n",
       "      <th>0</th>\n",
       "      <td>550010002</td>\n",
       "      <td>G27016300711022</td>\n",
       "      <td>2.716307e+11</td>\n",
       "      <td>12</td>\n",
       "      <td>1</td>\n",
       "      <td></td>\n",
       "    </tr>\n",
       "    <tr>\n",
       "      <th>1</th>\n",
       "      <td>550010003</td>\n",
       "      <td>G27016300711022</td>\n",
       "      <td>2.716307e+11</td>\n",
       "      <td>12</td>\n",
       "      <td>1</td>\n",
       "      <td></td>\n",
       "    </tr>\n",
       "    <tr>\n",
       "      <th>2</th>\n",
       "      <td>550010004</td>\n",
       "      <td>G27016300711022</td>\n",
       "      <td>2.716307e+11</td>\n",
       "      <td>12</td>\n",
       "      <td>1</td>\n",
       "      <td></td>\n",
       "    </tr>\n",
       "    <tr>\n",
       "      <th>3</th>\n",
       "      <td>550010001</td>\n",
       "      <td>G27016300711022</td>\n",
       "      <td>2.716307e+11</td>\n",
       "      <td>12</td>\n",
       "      <td>1</td>\n",
       "      <td></td>\n",
       "    </tr>\n",
       "    <tr>\n",
       "      <th>4</th>\n",
       "      <td>550010015</td>\n",
       "      <td>G27016300711022</td>\n",
       "      <td>2.716307e+11</td>\n",
       "      <td>12</td>\n",
       "      <td>1</td>\n",
       "      <td></td>\n",
       "    </tr>\n",
       "  </tbody>\n",
       "</table>\n",
       "</div>"
      ],
      "text/plain": [
       "       ZIP_4          GISJOIN          FIPS ADI_NATRANK ADI_STATERANK TYPE\n",
       "0  550010002  G27016300711022  2.716307e+11          12             1     \n",
       "1  550010003  G27016300711022  2.716307e+11          12             1     \n",
       "2  550010004  G27016300711022  2.716307e+11          12             1     \n",
       "3  550010001  G27016300711022  2.716307e+11          12             1     \n",
       "4  550010015  G27016300711022  2.716307e+11          12             1     "
      ]
     },
     "execution_count": 3,
     "metadata": {},
     "output_type": "execute_result"
    }
   ],
   "source": [
    "state_df.head()"
   ]
  },
  {
   "cell_type": "code",
   "execution_count": 4,
   "id": "27286604",
   "metadata": {},
   "outputs": [
    {
     "data": {
      "text/plain": [
       "1207314"
      ]
     },
     "execution_count": 4,
     "metadata": {},
     "output_type": "execute_result"
    }
   ],
   "source": [
    "# Over 1.2 million MN zip codes are in state_df\n",
    "state_df.shape[0]\n"
   ]
  },
  {
   "cell_type": "code",
   "execution_count": 4,
   "id": "6906f5d3",
   "metadata": {},
   "outputs": [
    {
     "data": {
      "text/html": [
       "<div>\n",
       "<style scoped>\n",
       "    .dataframe tbody tr th:only-of-type {\n",
       "        vertical-align: middle;\n",
       "    }\n",
       "\n",
       "    .dataframe tbody tr th {\n",
       "        vertical-align: top;\n",
       "    }\n",
       "\n",
       "    .dataframe thead th {\n",
       "        text-align: right;\n",
       "    }\n",
       "</style>\n",
       "<table border=\"1\" class=\"dataframe\">\n",
       "  <thead>\n",
       "    <tr style=\"text-align: right;\">\n",
       "      <th></th>\n",
       "      <th>ZIP_4</th>\n",
       "      <th>ADI_NATRANK</th>\n",
       "      <th>ADI_STATERANK</th>\n",
       "    </tr>\n",
       "  </thead>\n",
       "  <tbody>\n",
       "    <tr>\n",
       "      <th>0</th>\n",
       "      <td>550010002</td>\n",
       "      <td>12</td>\n",
       "      <td>1</td>\n",
       "    </tr>\n",
       "    <tr>\n",
       "      <th>1</th>\n",
       "      <td>550010003</td>\n",
       "      <td>12</td>\n",
       "      <td>1</td>\n",
       "    </tr>\n",
       "    <tr>\n",
       "      <th>2</th>\n",
       "      <td>550010004</td>\n",
       "      <td>12</td>\n",
       "      <td>1</td>\n",
       "    </tr>\n",
       "    <tr>\n",
       "      <th>3</th>\n",
       "      <td>550010001</td>\n",
       "      <td>12</td>\n",
       "      <td>1</td>\n",
       "    </tr>\n",
       "    <tr>\n",
       "      <th>4</th>\n",
       "      <td>550010015</td>\n",
       "      <td>12</td>\n",
       "      <td>1</td>\n",
       "    </tr>\n",
       "  </tbody>\n",
       "</table>\n",
       "</div>"
      ],
      "text/plain": [
       "       ZIP_4 ADI_NATRANK ADI_STATERANK\n",
       "0  550010002          12             1\n",
       "1  550010003          12             1\n",
       "2  550010004          12             1\n",
       "3  550010001          12             1\n",
       "4  550010015          12             1"
      ]
     },
     "execution_count": 4,
     "metadata": {},
     "output_type": "execute_result"
    }
   ],
   "source": [
    "# Drop unwanted columns from state_df\n",
    "clean_state_df = state_df.drop([\"GISJOIN\", \"FIPS\", \"TYPE\"], axis=1)\n",
    "clean_state_df.head()"
   ]
  },
  {
   "cell_type": "code",
   "execution_count": 5,
   "id": "90000477",
   "metadata": {},
   "outputs": [
    {
     "data": {
      "text/plain": [
       "array(['1', '4', '3', '6', 'GQ-PH', '2', '5', '9', '8', '7', 'GQ', '10',\n",
       "       'PH', nan, 8, 10, 7, 4, 9, 5, 6, 3, 1], dtype=object)"
      ]
     },
     "execution_count": 5,
     "metadata": {},
     "output_type": "execute_result"
    }
   ],
   "source": [
    "# Find bad data to drop\n",
    "clean_state_df[\"ADI_STATERANK\"].unique()"
   ]
  },
  {
   "cell_type": "code",
   "execution_count": 6,
   "id": "efabec8e",
   "metadata": {},
   "outputs": [
    {
     "data": {
      "text/plain": [
       "array(['1', '4', '3', '6', '2', '5', '9', '8', '7', '10', nan, 8, 10, 7,\n",
       "       4, 9, 5, 6, 3, 1], dtype=object)"
      ]
     },
     "execution_count": 6,
     "metadata": {},
     "output_type": "execute_result"
    }
   ],
   "source": [
    "# Drop bad data\n",
    "clean_state_df = clean_state_df.loc[(clean_state_df[\"ADI_STATERANK\"] != \"GQ\") &\n",
    "                                    (state_df[\"ADI_STATERANK\"] != \"PH\") &\n",
    "                                    (state_df[\"ADI_STATERANK\"] != \"GQ-PH\")]\n",
    "clean_state_df[\"ADI_STATERANK\"].unique()"
   ]
  },
  {
   "cell_type": "code",
   "execution_count": 8,
   "id": "ad929d23",
   "metadata": {},
   "outputs": [],
   "source": [
    "# Drop NaN data\n",
    "clean_state_df = clean_state_df.dropna()"
   ]
  },
  {
   "cell_type": "code",
   "execution_count": 9,
   "id": "3f138ada",
   "metadata": {},
   "outputs": [
    {
     "data": {
      "text/plain": [
       "array(['1', '4', '3', '6', '2', '5', '9', '8', '7', '10', 8, 10, 7, 4, 9,\n",
       "       5, 6, 3, 1], dtype=object)"
      ]
     },
     "execution_count": 9,
     "metadata": {},
     "output_type": "execute_result"
    }
   ],
   "source": [
    "# Confirm that all bad data is dropped from ADI_STATERANK column\n",
    "clean_state_df[\"ADI_STATERANK\"].unique()"
   ]
  },
  {
   "cell_type": "code",
   "execution_count": 10,
   "id": "c64df52b",
   "metadata": {},
   "outputs": [
    {
     "data": {
      "text/plain": [
       "array(['12', '11', '16', '35', '10', '39', '31', '50', '27', '42', '45',\n",
       "       '22', '37', '74', '43', '62', '46', '40', '47', '34', '56', '67',\n",
       "       '68', '69', '66', '70', '63', '41', '48', '38', '36', '57', '28',\n",
       "       '25', '33', '29', '26', '30', '19', '55', '32', '49', '20', '18',\n",
       "       '24', '23', '53', '54', '97', '14', '59', '15', '21', '17', '44',\n",
       "       '73', '64', '81', '61', '58', '76', '60', '13', '9', '51', '8',\n",
       "       '98', '5', '75', '86', '72', '65', '96', '84', '95', '77', '71',\n",
       "       '82', '83', '6', '92', '52', '89', '80', '79', '78', '7', '99',\n",
       "       '4', '100', '3', '2', '91', '85', '87', '93', '88', '94', '90', 60,\n",
       "       62, 61, 96, 55, 63, 59, 39, 67, 44, 69, 42, 43, 74, 64, 79, 81, 70,\n",
       "       77, 54, 68, 51, 46, 58, 52, 72, 82, 75, 80, 88, 56, 76, 45, 34, 90,\n",
       "       65, 99, 40, 36, 78, 84, 83, 73, 86, 66, 31, 53, 50, 85],\n",
       "      dtype=object)"
      ]
     },
     "execution_count": 10,
     "metadata": {},
     "output_type": "execute_result"
    }
   ],
   "source": [
    "# Confirm that all bad data is dropped from ADI_NATRANK column\n",
    "clean_state_df[\"ADI_NATRANK\"].unique()"
   ]
  },
  {
   "cell_type": "code",
   "execution_count": 11,
   "id": "ddba6d8e",
   "metadata": {},
   "outputs": [
    {
     "data": {
      "text/html": [
       "<div>\n",
       "<style scoped>\n",
       "    .dataframe tbody tr th:only-of-type {\n",
       "        vertical-align: middle;\n",
       "    }\n",
       "\n",
       "    .dataframe tbody tr th {\n",
       "        vertical-align: top;\n",
       "    }\n",
       "\n",
       "    .dataframe thead th {\n",
       "        text-align: right;\n",
       "    }\n",
       "</style>\n",
       "<table border=\"1\" class=\"dataframe\">\n",
       "  <thead>\n",
       "    <tr style=\"text-align: right;\">\n",
       "      <th></th>\n",
       "      <th>ZIP_4</th>\n",
       "      <th>ADI_NATRANK</th>\n",
       "      <th>ADI_STATERANK</th>\n",
       "    </tr>\n",
       "  </thead>\n",
       "  <tbody>\n",
       "    <tr>\n",
       "      <th>0</th>\n",
       "      <td>550010002</td>\n",
       "      <td>12</td>\n",
       "      <td>1</td>\n",
       "    </tr>\n",
       "    <tr>\n",
       "      <th>1</th>\n",
       "      <td>550010003</td>\n",
       "      <td>12</td>\n",
       "      <td>1</td>\n",
       "    </tr>\n",
       "    <tr>\n",
       "      <th>2</th>\n",
       "      <td>550010004</td>\n",
       "      <td>12</td>\n",
       "      <td>1</td>\n",
       "    </tr>\n",
       "    <tr>\n",
       "      <th>3</th>\n",
       "      <td>550010001</td>\n",
       "      <td>12</td>\n",
       "      <td>1</td>\n",
       "    </tr>\n",
       "    <tr>\n",
       "      <th>4</th>\n",
       "      <td>550010015</td>\n",
       "      <td>12</td>\n",
       "      <td>1</td>\n",
       "    </tr>\n",
       "  </tbody>\n",
       "</table>\n",
       "</div>"
      ],
      "text/plain": [
       "       ZIP_4 ADI_NATRANK ADI_STATERANK\n",
       "0  550010002          12             1\n",
       "1  550010003          12             1\n",
       "2  550010004          12             1\n",
       "3  550010001          12             1\n",
       "4  550010015          12             1"
      ]
     },
     "execution_count": 11,
     "metadata": {},
     "output_type": "execute_result"
    }
   ],
   "source": [
    "# Reset the index after dropping rows\n",
    "clean_state_df = clean_state_df.reset_index(drop=True)\n",
    "clean_state_df.head()"
   ]
  },
  {
   "cell_type": "code",
   "execution_count": 12,
   "id": "670498fc",
   "metadata": {},
   "outputs": [
    {
     "name": "stdout",
     "output_type": "stream",
     "text": [
      "29462\n"
     ]
    }
   ],
   "source": [
    "# Almost 30,000 rows were dropped during data cleaning\n",
    "print(state_df.shape[0] - clean_state_df.shape[0])"
   ]
  },
  {
   "cell_type": "code",
   "execution_count": 13,
   "id": "ed168bbd",
   "metadata": {},
   "outputs": [
    {
     "data": {
      "text/html": [
       "<div>\n",
       "<style scoped>\n",
       "    .dataframe tbody tr th:only-of-type {\n",
       "        vertical-align: middle;\n",
       "    }\n",
       "\n",
       "    .dataframe tbody tr th {\n",
       "        vertical-align: top;\n",
       "    }\n",
       "\n",
       "    .dataframe thead th {\n",
       "        text-align: right;\n",
       "    }\n",
       "</style>\n",
       "<table border=\"1\" class=\"dataframe\">\n",
       "  <thead>\n",
       "    <tr style=\"text-align: right;\">\n",
       "      <th></th>\n",
       "      <th>Zip Code (9-digit)</th>\n",
       "      <th>ADI_NATRANK</th>\n",
       "      <th>ADI_STATERANK</th>\n",
       "    </tr>\n",
       "  </thead>\n",
       "  <tbody>\n",
       "    <tr>\n",
       "      <th>0</th>\n",
       "      <td>550010002</td>\n",
       "      <td>12</td>\n",
       "      <td>1</td>\n",
       "    </tr>\n",
       "    <tr>\n",
       "      <th>1</th>\n",
       "      <td>550010003</td>\n",
       "      <td>12</td>\n",
       "      <td>1</td>\n",
       "    </tr>\n",
       "    <tr>\n",
       "      <th>2</th>\n",
       "      <td>550010004</td>\n",
       "      <td>12</td>\n",
       "      <td>1</td>\n",
       "    </tr>\n",
       "    <tr>\n",
       "      <th>3</th>\n",
       "      <td>550010001</td>\n",
       "      <td>12</td>\n",
       "      <td>1</td>\n",
       "    </tr>\n",
       "    <tr>\n",
       "      <th>4</th>\n",
       "      <td>550010015</td>\n",
       "      <td>12</td>\n",
       "      <td>1</td>\n",
       "    </tr>\n",
       "  </tbody>\n",
       "</table>\n",
       "</div>"
      ],
      "text/plain": [
       "   Zip Code (9-digit) ADI_NATRANK ADI_STATERANK\n",
       "0           550010002          12             1\n",
       "1           550010003          12             1\n",
       "2           550010004          12             1\n",
       "3           550010001          12             1\n",
       "4           550010015          12             1"
      ]
     },
     "execution_count": 13,
     "metadata": {},
     "output_type": "execute_result"
    }
   ],
   "source": [
    "# Rename zip code column name to match the pt_data_df\n",
    "clean_state_df = clean_state_df.rename(columns={\"ZIP_4\": \"Zip Code (9-digit)\"})\n",
    "clean_state_df.head()"
   ]
  },
  {
   "cell_type": "markdown",
   "id": "327e4de0",
   "metadata": {},
   "source": [
    "---\n",
    "local_df cleaning"
   ]
  },
  {
   "cell_type": "code",
   "execution_count": 14,
   "id": "f3508d80",
   "metadata": {},
   "outputs": [
    {
     "data": {
      "text/html": [
       "<div>\n",
       "<style scoped>\n",
       "    .dataframe tbody tr th:only-of-type {\n",
       "        vertical-align: middle;\n",
       "    }\n",
       "\n",
       "    .dataframe tbody tr th {\n",
       "        vertical-align: top;\n",
       "    }\n",
       "\n",
       "    .dataframe thead th {\n",
       "        text-align: right;\n",
       "    }\n",
       "</style>\n",
       "<table border=\"1\" class=\"dataframe\">\n",
       "  <thead>\n",
       "    <tr style=\"text-align: right;\">\n",
       "      <th></th>\n",
       "      <th>Local Repository ID</th>\n",
       "      <th>Zip Code (5-digit)</th>\n",
       "      <th>Zip Code (9-digit)</th>\n",
       "      <th>Established</th>\n",
       "    </tr>\n",
       "  </thead>\n",
       "  <tbody>\n",
       "    <tr>\n",
       "      <th>0</th>\n",
       "      <td>101</td>\n",
       "      <td>55407</td>\n",
       "      <td>554074563</td>\n",
       "      <td>7/9/2021</td>\n",
       "    </tr>\n",
       "    <tr>\n",
       "      <th>1</th>\n",
       "      <td>102</td>\n",
       "      <td>56377</td>\n",
       "      <td>563771274</td>\n",
       "      <td>7/1/2021</td>\n",
       "    </tr>\n",
       "    <tr>\n",
       "      <th>2</th>\n",
       "      <td>103</td>\n",
       "      <td>55454</td>\n",
       "      <td>554544400</td>\n",
       "      <td>6/10/2021</td>\n",
       "    </tr>\n",
       "    <tr>\n",
       "      <th>3</th>\n",
       "      <td>104</td>\n",
       "      <td>55416</td>\n",
       "      <td>554162527</td>\n",
       "      <td>7/15/2022</td>\n",
       "    </tr>\n",
       "    <tr>\n",
       "      <th>4</th>\n",
       "      <td>105</td>\n",
       "      <td>56441</td>\n",
       "      <td>564411422</td>\n",
       "      <td>7/21/2022</td>\n",
       "    </tr>\n",
       "  </tbody>\n",
       "</table>\n",
       "</div>"
      ],
      "text/plain": [
       "   Local Repository ID  Zip Code (5-digit)  Zip Code (9-digit) Established\n",
       "0                  101               55407           554074563    7/9/2021\n",
       "1                  102               56377           563771274    7/1/2021\n",
       "2                  103               55454           554544400   6/10/2021\n",
       "3                  104               55416           554162527   7/15/2022\n",
       "4                  105               56441           564411422   7/21/2022"
      ]
     },
     "execution_count": 14,
     "metadata": {},
     "output_type": "execute_result"
    }
   ],
   "source": [
    "local_df.head()"
   ]
  },
  {
   "cell_type": "code",
   "execution_count": 15,
   "id": "cdc877d2",
   "metadata": {},
   "outputs": [
    {
     "data": {
      "text/plain": [
       "22"
      ]
     },
     "execution_count": 15,
     "metadata": {},
     "output_type": "execute_result"
    }
   ],
   "source": [
    "# RoundtableRx has 22 local repositories where patients can get their medications\n",
    "local_df.shape[0]"
   ]
  },
  {
   "cell_type": "code",
   "execution_count": 16,
   "id": "3d4e75b7",
   "metadata": {},
   "outputs": [
    {
     "data": {
      "text/html": [
       "<div>\n",
       "<style scoped>\n",
       "    .dataframe tbody tr th:only-of-type {\n",
       "        vertical-align: middle;\n",
       "    }\n",
       "\n",
       "    .dataframe tbody tr th {\n",
       "        vertical-align: top;\n",
       "    }\n",
       "\n",
       "    .dataframe thead th {\n",
       "        text-align: right;\n",
       "    }\n",
       "</style>\n",
       "<table border=\"1\" class=\"dataframe\">\n",
       "  <thead>\n",
       "    <tr style=\"text-align: right;\">\n",
       "      <th></th>\n",
       "      <th>Local Repository ID</th>\n",
       "      <th>Zip Code (5-digit)</th>\n",
       "      <th>Zip Code (9-digit)</th>\n",
       "    </tr>\n",
       "  </thead>\n",
       "  <tbody>\n",
       "    <tr>\n",
       "      <th>0</th>\n",
       "      <td>101</td>\n",
       "      <td>55407</td>\n",
       "      <td>554074563</td>\n",
       "    </tr>\n",
       "    <tr>\n",
       "      <th>1</th>\n",
       "      <td>102</td>\n",
       "      <td>56377</td>\n",
       "      <td>563771274</td>\n",
       "    </tr>\n",
       "    <tr>\n",
       "      <th>2</th>\n",
       "      <td>103</td>\n",
       "      <td>55454</td>\n",
       "      <td>554544400</td>\n",
       "    </tr>\n",
       "    <tr>\n",
       "      <th>3</th>\n",
       "      <td>104</td>\n",
       "      <td>55416</td>\n",
       "      <td>554162527</td>\n",
       "    </tr>\n",
       "    <tr>\n",
       "      <th>4</th>\n",
       "      <td>105</td>\n",
       "      <td>56441</td>\n",
       "      <td>564411422</td>\n",
       "    </tr>\n",
       "  </tbody>\n",
       "</table>\n",
       "</div>"
      ],
      "text/plain": [
       "   Local Repository ID  Zip Code (5-digit)  Zip Code (9-digit)\n",
       "0                  101               55407           554074563\n",
       "1                  102               56377           563771274\n",
       "2                  103               55454           554544400\n",
       "3                  104               55416           554162527\n",
       "4                  105               56441           564411422"
      ]
     },
     "execution_count": 16,
     "metadata": {},
     "output_type": "execute_result"
    }
   ],
   "source": [
    "# Drop unwanted columns\n",
    "clean_local_df = local_df.drop(\"Established\", axis=1)\n",
    "clean_local_df.head()"
   ]
  },
  {
   "cell_type": "code",
   "execution_count": 17,
   "id": "eaeb0430",
   "metadata": {},
   "outputs": [
    {
     "data": {
      "text/plain": [
       "array([55407, 56377, 55454, 55416, 56441, 56401, 56636, 56501, 55063,\n",
       "       55807, 55470, 55987, 55404, 55104, 55409, 55054, 55303, 55805],\n",
       "      dtype=int64)"
      ]
     },
     "execution_count": 17,
     "metadata": {},
     "output_type": "execute_result"
    }
   ],
   "source": [
    "# Check for bad data\n",
    "clean_local_df[\"Zip Code (5-digit)\"].unique()"
   ]
  },
  {
   "cell_type": "code",
   "execution_count": 18,
   "id": "7bbb23fb",
   "metadata": {},
   "outputs": [
    {
     "data": {
      "text/plain": [
       "array([554074563, 563771274, 554544400, 554162527, 564411422, 564013575,\n",
       "       566368779, 565013503, 550636026, 564013054, 558072730, 554071131,\n",
       "       559876435, 558072737, 554043074, 551044201, 554091304, 554044515,\n",
       "       550545483, 554042923, 553035566, 558051901], dtype=int64)"
      ]
     },
     "execution_count": 18,
     "metadata": {},
     "output_type": "execute_result"
    }
   ],
   "source": [
    "# Check for bad data\n",
    "clean_local_df[\"Zip Code (9-digit)\"].unique()"
   ]
  },
  {
   "cell_type": "markdown",
   "id": "ff641c7e",
   "metadata": {},
   "source": [
    "----\n",
    "pt_df cleaning"
   ]
  },
  {
   "cell_type": "code",
   "execution_count": 19,
   "id": "14367729",
   "metadata": {},
   "outputs": [
    {
     "data": {
      "text/html": [
       "<div>\n",
       "<style scoped>\n",
       "    .dataframe tbody tr th:only-of-type {\n",
       "        vertical-align: middle;\n",
       "    }\n",
       "\n",
       "    .dataframe tbody tr th {\n",
       "        vertical-align: top;\n",
       "    }\n",
       "\n",
       "    .dataframe thead th {\n",
       "        text-align: right;\n",
       "    }\n",
       "</style>\n",
       "<table border=\"1\" class=\"dataframe\">\n",
       "  <thead>\n",
       "    <tr style=\"text-align: right;\">\n",
       "      <th></th>\n",
       "      <th>Local Repository ID</th>\n",
       "      <th>Patient ID</th>\n",
       "      <th>Zip Code (5-digit)</th>\n",
       "      <th>Zip Code (9-digit)</th>\n",
       "      <th>Date Started or Renewed</th>\n",
       "    </tr>\n",
       "  </thead>\n",
       "  <tbody>\n",
       "    <tr>\n",
       "      <th>0</th>\n",
       "      <td>113</td>\n",
       "      <td>2001</td>\n",
       "      <td>55987</td>\n",
       "      <td>559874346</td>\n",
       "      <td>1/30/2023</td>\n",
       "    </tr>\n",
       "    <tr>\n",
       "      <th>1</th>\n",
       "      <td>115</td>\n",
       "      <td>2002</td>\n",
       "      <td>55429</td>\n",
       "      <td>554292726</td>\n",
       "      <td>5/18/2021</td>\n",
       "    </tr>\n",
       "    <tr>\n",
       "      <th>2</th>\n",
       "      <td>115</td>\n",
       "      <td>2003</td>\n",
       "      <td>??</td>\n",
       "      <td>??</td>\n",
       "      <td>6/2/2021</td>\n",
       "    </tr>\n",
       "    <tr>\n",
       "      <th>3</th>\n",
       "      <td>115</td>\n",
       "      <td>2004</td>\n",
       "      <td>55407</td>\n",
       "      <td>554071135</td>\n",
       "      <td>8/20/2021</td>\n",
       "    </tr>\n",
       "    <tr>\n",
       "      <th>4</th>\n",
       "      <td>115</td>\n",
       "      <td>2005</td>\n",
       "      <td>55428</td>\n",
       "      <td>554282966</td>\n",
       "      <td>7/22/2022</td>\n",
       "    </tr>\n",
       "  </tbody>\n",
       "</table>\n",
       "</div>"
      ],
      "text/plain": [
       "   Local Repository ID  Patient ID Zip Code (5-digit) Zip Code (9-digit)  \\\n",
       "0                  113        2001              55987          559874346   \n",
       "1                  115        2002              55429          554292726   \n",
       "2                  115        2003                 ??                 ??   \n",
       "3                  115        2004              55407          554071135   \n",
       "4                  115        2005              55428          554282966   \n",
       "\n",
       "  Date Started or Renewed  \n",
       "0               1/30/2023  \n",
       "1               5/18/2021  \n",
       "2                6/2/2021  \n",
       "3               8/20/2021  \n",
       "4               7/22/2022  "
      ]
     },
     "execution_count": 19,
     "metadata": {},
     "output_type": "execute_result"
    }
   ],
   "source": [
    "pt_df.head()"
   ]
  },
  {
   "cell_type": "code",
   "execution_count": 20,
   "id": "b95ccb20",
   "metadata": {},
   "outputs": [
    {
     "data": {
      "text/plain": [
       "133"
      ]
     },
     "execution_count": 20,
     "metadata": {},
     "output_type": "execute_result"
    }
   ],
   "source": [
    "# RoundtableRx serves 133 unique patients\n",
    "pt_df.shape[0]"
   ]
  },
  {
   "cell_type": "code",
   "execution_count": 21,
   "id": "f190dd29",
   "metadata": {},
   "outputs": [
    {
     "data": {
      "text/html": [
       "<div>\n",
       "<style scoped>\n",
       "    .dataframe tbody tr th:only-of-type {\n",
       "        vertical-align: middle;\n",
       "    }\n",
       "\n",
       "    .dataframe tbody tr th {\n",
       "        vertical-align: top;\n",
       "    }\n",
       "\n",
       "    .dataframe thead th {\n",
       "        text-align: right;\n",
       "    }\n",
       "</style>\n",
       "<table border=\"1\" class=\"dataframe\">\n",
       "  <thead>\n",
       "    <tr style=\"text-align: right;\">\n",
       "      <th></th>\n",
       "      <th>Local Repository ID</th>\n",
       "      <th>Patient ID</th>\n",
       "      <th>Zip Code (5-digit)</th>\n",
       "      <th>Zip Code (9-digit)</th>\n",
       "    </tr>\n",
       "  </thead>\n",
       "  <tbody>\n",
       "    <tr>\n",
       "      <th>0</th>\n",
       "      <td>113</td>\n",
       "      <td>2001</td>\n",
       "      <td>55987</td>\n",
       "      <td>559874346</td>\n",
       "    </tr>\n",
       "    <tr>\n",
       "      <th>1</th>\n",
       "      <td>115</td>\n",
       "      <td>2002</td>\n",
       "      <td>55429</td>\n",
       "      <td>554292726</td>\n",
       "    </tr>\n",
       "    <tr>\n",
       "      <th>2</th>\n",
       "      <td>115</td>\n",
       "      <td>2003</td>\n",
       "      <td>??</td>\n",
       "      <td>??</td>\n",
       "    </tr>\n",
       "    <tr>\n",
       "      <th>3</th>\n",
       "      <td>115</td>\n",
       "      <td>2004</td>\n",
       "      <td>55407</td>\n",
       "      <td>554071135</td>\n",
       "    </tr>\n",
       "    <tr>\n",
       "      <th>4</th>\n",
       "      <td>115</td>\n",
       "      <td>2005</td>\n",
       "      <td>55428</td>\n",
       "      <td>554282966</td>\n",
       "    </tr>\n",
       "  </tbody>\n",
       "</table>\n",
       "</div>"
      ],
      "text/plain": [
       "   Local Repository ID  Patient ID Zip Code (5-digit) Zip Code (9-digit)\n",
       "0                  113        2001              55987          559874346\n",
       "1                  115        2002              55429          554292726\n",
       "2                  115        2003                 ??                 ??\n",
       "3                  115        2004              55407          554071135\n",
       "4                  115        2005              55428          554282966"
      ]
     },
     "execution_count": 21,
     "metadata": {},
     "output_type": "execute_result"
    }
   ],
   "source": [
    "# Drop unwanted columns\n",
    "clean_pt_df = pt_df.drop(\"Date Started or Renewed\", axis=1)\n",
    "clean_pt_df.head()"
   ]
  },
  {
   "cell_type": "code",
   "execution_count": 22,
   "id": "10246808",
   "metadata": {},
   "outputs": [
    {
     "data": {
      "text/plain": [
       "array(['55987', '55429', '??', '55407', '55428', '55417', '55434',\n",
       "       '55418', '55413', '55423', '56679', '55792', '55810', '55720',\n",
       "       '56649', '55804', '55805', '56401', '55807', '55724', '55705',\n",
       "       '55812', '55795', '56470', '55803', '56636', '55753', '56571',\n",
       "       '56573', '55797', '55744', '55811', '56484', '55760', '55782',\n",
       "       '56450', '56672', '56501', '55779', '56473', '56474', '56554',\n",
       "       '56637', '56544', '56449', '55722', '56655', '55020', '55044',\n",
       "       '55088', '55054', '55378', '55057', '55616', '55454', '55106',\n",
       "       '55406', '55303', '55126', '55433', '55343', '55304', '55025',\n",
       "       '55387', '55117', '55346', '55110', '55362', '55404', '56444',\n",
       "       '56441', '55119'], dtype=object)"
      ]
     },
     "execution_count": 22,
     "metadata": {},
     "output_type": "execute_result"
    }
   ],
   "source": [
    "# Check for bad data\n",
    "clean_pt_df[\"Zip Code (5-digit)\"].unique()"
   ]
  },
  {
   "cell_type": "code",
   "execution_count": 23,
   "id": "4ff1e1ce",
   "metadata": {},
   "outputs": [
    {
     "data": {
      "text/plain": [
       "array(['559874346', '554292726', '??', '554071135', '554282966',\n",
       "       '554172816', '554195500', '554072203', '554184420', '554131969',\n",
       "       '554234333', '566790093', '557922844', '558109576', '557201311',\n",
       "       '566493402', '558041646', '557922200', '558052044', '564012737',\n",
       "       '566492805', '558072658', '557248533', '557051441', '558051823',\n",
       "       '558043301', '558121751', '557953076', '558052073', '564701387',\n",
       "       '558072542', '558043061', '558039436', '566360179', '557530641',\n",
       "       '565719409', '565739010', '566363071', '557978718', '557442177',\n",
       "       '557248209', '558111236', '564842171', '557605894', '557820385',\n",
       "       '564509694', '566724575', '565012449', '558032034', '557797006',\n",
       "       '566360395', '565013203', '566362044', '564732139', '558102022',\n",
       "       '557923527', '558041806', '558121720', '558115323', '564014402',\n",
       "       '566362205', '564746164', '565549002', '566372091', '565012909',\n",
       "       '565448547', '558071922', '558071908', '558031945', '564491107',\n",
       "       '558115436', '566724593', '566492125', '557220521', '566553079',\n",
       "       '557922151', '565017133', '558051848', '550209629', '550448226',\n",
       "       '550882107', '550448407', '550545415', '550544708', '550882465',\n",
       "       '553782005', '550574276', '550208538', '550209561', '550882137',\n",
       "       '550545435', '550882115', '550209564', '550889550', '550448216',\n",
       "       '550209442', '558071339', '556161342', '558032740', '554541138',\n",
       "       '554282964', '551065482', '554061003', '554541588', '554283358',\n",
       "       '553032044', '551264501', '554334628', '554331732', '553036762',\n",
       "       '553036970', '554336542', '553437554', '553043447', '550259641',\n",
       "       '553871179', '551171048', '553461202', '551101624', '553628707',\n",
       "       '554184315', '554044229', '564446242', '564411312', '564410037',\n",
       "       '551195856', '551104810', '558041363', '554043103'], dtype=object)"
      ]
     },
     "execution_count": 23,
     "metadata": {},
     "output_type": "execute_result"
    }
   ],
   "source": [
    "# Check for bad data\n",
    "clean_pt_df[\"Zip Code (9-digit)\"].unique()"
   ]
  },
  {
   "cell_type": "code",
   "execution_count": 24,
   "id": "6fa102e5",
   "metadata": {},
   "outputs": [
    {
     "data": {
      "text/html": [
       "<div>\n",
       "<style scoped>\n",
       "    .dataframe tbody tr th:only-of-type {\n",
       "        vertical-align: middle;\n",
       "    }\n",
       "\n",
       "    .dataframe tbody tr th {\n",
       "        vertical-align: top;\n",
       "    }\n",
       "\n",
       "    .dataframe thead th {\n",
       "        text-align: right;\n",
       "    }\n",
       "</style>\n",
       "<table border=\"1\" class=\"dataframe\">\n",
       "  <thead>\n",
       "    <tr style=\"text-align: right;\">\n",
       "      <th></th>\n",
       "      <th>Local Repository ID</th>\n",
       "      <th>Patient ID</th>\n",
       "      <th>Zip Code (5-digit)</th>\n",
       "      <th>Zip Code (9-digit)</th>\n",
       "    </tr>\n",
       "  </thead>\n",
       "  <tbody>\n",
       "    <tr>\n",
       "      <th>0</th>\n",
       "      <td>113</td>\n",
       "      <td>2001</td>\n",
       "      <td>55987</td>\n",
       "      <td>559874346</td>\n",
       "    </tr>\n",
       "    <tr>\n",
       "      <th>1</th>\n",
       "      <td>115</td>\n",
       "      <td>2002</td>\n",
       "      <td>55429</td>\n",
       "      <td>554292726</td>\n",
       "    </tr>\n",
       "    <tr>\n",
       "      <th>3</th>\n",
       "      <td>115</td>\n",
       "      <td>2004</td>\n",
       "      <td>55407</td>\n",
       "      <td>554071135</td>\n",
       "    </tr>\n",
       "    <tr>\n",
       "      <th>4</th>\n",
       "      <td>115</td>\n",
       "      <td>2005</td>\n",
       "      <td>55428</td>\n",
       "      <td>554282966</td>\n",
       "    </tr>\n",
       "    <tr>\n",
       "      <th>5</th>\n",
       "      <td>115</td>\n",
       "      <td>2006</td>\n",
       "      <td>55417</td>\n",
       "      <td>554172816</td>\n",
       "    </tr>\n",
       "  </tbody>\n",
       "</table>\n",
       "</div>"
      ],
      "text/plain": [
       "   Local Repository ID  Patient ID Zip Code (5-digit) Zip Code (9-digit)\n",
       "0                  113        2001              55987          559874346\n",
       "1                  115        2002              55429          554292726\n",
       "3                  115        2004              55407          554071135\n",
       "4                  115        2005              55428          554282966\n",
       "5                  115        2006              55417          554172816"
      ]
     },
     "execution_count": 24,
     "metadata": {},
     "output_type": "execute_result"
    }
   ],
   "source": [
    "# Drop bad data\n",
    "clean_pt_df = clean_pt_df.loc[(clean_pt_df[\"Zip Code (9-digit)\"] != \"??\") & (clean_pt_df[\"Zip Code (5-digit)\"] != \"??\")]\n",
    "clean_pt_df.head()"
   ]
  },
  {
   "cell_type": "code",
   "execution_count": 25,
   "id": "3a5bb402",
   "metadata": {},
   "outputs": [
    {
     "data": {
      "text/html": [
       "<div>\n",
       "<style scoped>\n",
       "    .dataframe tbody tr th:only-of-type {\n",
       "        vertical-align: middle;\n",
       "    }\n",
       "\n",
       "    .dataframe tbody tr th {\n",
       "        vertical-align: top;\n",
       "    }\n",
       "\n",
       "    .dataframe thead th {\n",
       "        text-align: right;\n",
       "    }\n",
       "</style>\n",
       "<table border=\"1\" class=\"dataframe\">\n",
       "  <thead>\n",
       "    <tr style=\"text-align: right;\">\n",
       "      <th></th>\n",
       "      <th>Local Repository ID</th>\n",
       "      <th>Patient ID</th>\n",
       "      <th>Zip Code (5-digit)</th>\n",
       "      <th>Zip Code (9-digit)</th>\n",
       "    </tr>\n",
       "  </thead>\n",
       "  <tbody>\n",
       "    <tr>\n",
       "      <th>0</th>\n",
       "      <td>113</td>\n",
       "      <td>2001</td>\n",
       "      <td>55987</td>\n",
       "      <td>559874346</td>\n",
       "    </tr>\n",
       "    <tr>\n",
       "      <th>1</th>\n",
       "      <td>115</td>\n",
       "      <td>2002</td>\n",
       "      <td>55429</td>\n",
       "      <td>554292726</td>\n",
       "    </tr>\n",
       "    <tr>\n",
       "      <th>2</th>\n",
       "      <td>115</td>\n",
       "      <td>2004</td>\n",
       "      <td>55407</td>\n",
       "      <td>554071135</td>\n",
       "    </tr>\n",
       "    <tr>\n",
       "      <th>3</th>\n",
       "      <td>115</td>\n",
       "      <td>2005</td>\n",
       "      <td>55428</td>\n",
       "      <td>554282966</td>\n",
       "    </tr>\n",
       "    <tr>\n",
       "      <th>4</th>\n",
       "      <td>115</td>\n",
       "      <td>2006</td>\n",
       "      <td>55417</td>\n",
       "      <td>554172816</td>\n",
       "    </tr>\n",
       "  </tbody>\n",
       "</table>\n",
       "</div>"
      ],
      "text/plain": [
       "   Local Repository ID  Patient ID Zip Code (5-digit) Zip Code (9-digit)\n",
       "0                  113        2001              55987          559874346\n",
       "1                  115        2002              55429          554292726\n",
       "2                  115        2004              55407          554071135\n",
       "3                  115        2005              55428          554282966\n",
       "4                  115        2006              55417          554172816"
      ]
     },
     "execution_count": 25,
     "metadata": {},
     "output_type": "execute_result"
    }
   ],
   "source": [
    "# Reset the index after dropping rows\n",
    "clean_pt_df = clean_pt_df.reset_index(drop=True)\n",
    "clean_pt_df.head()"
   ]
  },
  {
   "cell_type": "code",
   "execution_count": 26,
   "id": "2f910d1e",
   "metadata": {},
   "outputs": [
    {
     "name": "stdout",
     "output_type": "stream",
     "text": [
      "4\n"
     ]
    }
   ],
   "source": [
    "# Four patients were dropped during data cleaning\n",
    "print(pt_df.shape[0] - clean_pt_df.shape[0])"
   ]
  },
  {
   "cell_type": "markdown",
   "id": "7e019e52",
   "metadata": {},
   "source": [
    "# Data Merging"
   ]
  },
  {
   "cell_type": "code",
   "execution_count": 27,
   "id": "24624565",
   "metadata": {},
   "outputs": [],
   "source": [
    "# Before merging clean_pt_df and clean_state_df, ensure that common column is of the same dtype\n",
    "clean_pt_df['Zip Code (9-digit)'] = clean_pt_df['Zip Code (9-digit)'].astype(int)\n",
    "clean_state_df['Zip Code (9-digit)'] = clean_state_df['Zip Code (9-digit)'].astype(int)"
   ]
  },
  {
   "cell_type": "code",
   "execution_count": 28,
   "id": "c44458e7",
   "metadata": {},
   "outputs": [
    {
     "data": {
      "text/html": [
       "<div>\n",
       "<style scoped>\n",
       "    .dataframe tbody tr th:only-of-type {\n",
       "        vertical-align: middle;\n",
       "    }\n",
       "\n",
       "    .dataframe tbody tr th {\n",
       "        vertical-align: top;\n",
       "    }\n",
       "\n",
       "    .dataframe thead th {\n",
       "        text-align: right;\n",
       "    }\n",
       "</style>\n",
       "<table border=\"1\" class=\"dataframe\">\n",
       "  <thead>\n",
       "    <tr style=\"text-align: right;\">\n",
       "      <th></th>\n",
       "      <th>Local Repository ID</th>\n",
       "      <th>Patient ID</th>\n",
       "      <th>Zip Code (5-digit)</th>\n",
       "      <th>Zip Code (9-digit)</th>\n",
       "      <th>ADI_NATRANK</th>\n",
       "      <th>ADI_STATERANK</th>\n",
       "    </tr>\n",
       "  </thead>\n",
       "  <tbody>\n",
       "    <tr>\n",
       "      <th>0</th>\n",
       "      <td>113</td>\n",
       "      <td>2001</td>\n",
       "      <td>55987</td>\n",
       "      <td>559874346</td>\n",
       "      <td>77</td>\n",
       "      <td>10</td>\n",
       "    </tr>\n",
       "    <tr>\n",
       "      <th>1</th>\n",
       "      <td>115</td>\n",
       "      <td>2002</td>\n",
       "      <td>55429</td>\n",
       "      <td>554292726</td>\n",
       "      <td>62</td>\n",
       "      <td>8</td>\n",
       "    </tr>\n",
       "    <tr>\n",
       "      <th>2</th>\n",
       "      <td>115</td>\n",
       "      <td>2004</td>\n",
       "      <td>55407</td>\n",
       "      <td>554071135</td>\n",
       "      <td>57</td>\n",
       "      <td>7</td>\n",
       "    </tr>\n",
       "    <tr>\n",
       "      <th>3</th>\n",
       "      <td>115</td>\n",
       "      <td>2005</td>\n",
       "      <td>55428</td>\n",
       "      <td>554282966</td>\n",
       "      <td>63</td>\n",
       "      <td>8</td>\n",
       "    </tr>\n",
       "    <tr>\n",
       "      <th>4</th>\n",
       "      <td>115</td>\n",
       "      <td>2006</td>\n",
       "      <td>55417</td>\n",
       "      <td>554172816</td>\n",
       "      <td>84</td>\n",
       "      <td>10</td>\n",
       "    </tr>\n",
       "  </tbody>\n",
       "</table>\n",
       "</div>"
      ],
      "text/plain": [
       "   Local Repository ID  Patient ID Zip Code (5-digit)  Zip Code (9-digit)  \\\n",
       "0                  113        2001              55987           559874346   \n",
       "1                  115        2002              55429           554292726   \n",
       "2                  115        2004              55407           554071135   \n",
       "3                  115        2005              55428           554282966   \n",
       "4                  115        2006              55417           554172816   \n",
       "\n",
       "  ADI_NATRANK ADI_STATERANK  \n",
       "0          77            10  \n",
       "1          62             8  \n",
       "2          57             7  \n",
       "3          63             8  \n",
       "4          84            10  "
      ]
     },
     "execution_count": 28,
     "metadata": {},
     "output_type": "execute_result"
    }
   ],
   "source": [
    "# Merge clean_pt_df and clean_state_df so that we can get the ADI rank of each patient\n",
    "pt_adi_df = pd.merge(clean_pt_df,clean_state_df, how=\"inner\", on=[\"Zip Code (9-digit)\", \"Zip Code (9-digit)\"])\n",
    "pt_adi_df.head()"
   ]
  },
  {
   "cell_type": "code",
   "execution_count": 29,
   "id": "aafac635",
   "metadata": {},
   "outputs": [
    {
     "data": {
      "text/plain": [
       "127"
      ]
     },
     "execution_count": 29,
     "metadata": {},
     "output_type": "execute_result"
    }
   ],
   "source": [
    "# The ADI score was available for 127 of RoundtableRxs patients\n",
    "pt_adi_df.shape[0]"
   ]
  },
  {
   "cell_type": "code",
   "execution_count": 30,
   "id": "346a008e",
   "metadata": {},
   "outputs": [],
   "source": [
    "# Before merging clean_local_df and clean_state_df, ensure that common column is of the same dtype\n",
    "clean_local_df['Zip Code (9-digit)'] = clean_local_df['Zip Code (9-digit)'].astype(int)"
   ]
  },
  {
   "cell_type": "code",
   "execution_count": 31,
   "id": "1e295395",
   "metadata": {},
   "outputs": [
    {
     "data": {
      "text/html": [
       "<div>\n",
       "<style scoped>\n",
       "    .dataframe tbody tr th:only-of-type {\n",
       "        vertical-align: middle;\n",
       "    }\n",
       "\n",
       "    .dataframe tbody tr th {\n",
       "        vertical-align: top;\n",
       "    }\n",
       "\n",
       "    .dataframe thead th {\n",
       "        text-align: right;\n",
       "    }\n",
       "</style>\n",
       "<table border=\"1\" class=\"dataframe\">\n",
       "  <thead>\n",
       "    <tr style=\"text-align: right;\">\n",
       "      <th></th>\n",
       "      <th>Local Repository ID</th>\n",
       "      <th>Zip Code (5-digit)</th>\n",
       "      <th>Zip Code (9-digit)</th>\n",
       "      <th>ADI_NATRANK</th>\n",
       "      <th>ADI_STATERANK</th>\n",
       "    </tr>\n",
       "  </thead>\n",
       "  <tbody>\n",
       "    <tr>\n",
       "      <th>0</th>\n",
       "      <td>101</td>\n",
       "      <td>55407</td>\n",
       "      <td>554074563</td>\n",
       "      <td>44</td>\n",
       "      <td>5</td>\n",
       "    </tr>\n",
       "    <tr>\n",
       "      <th>1</th>\n",
       "      <td>102</td>\n",
       "      <td>56377</td>\n",
       "      <td>563771274</td>\n",
       "      <td>65</td>\n",
       "      <td>8</td>\n",
       "    </tr>\n",
       "    <tr>\n",
       "      <th>2</th>\n",
       "      <td>103</td>\n",
       "      <td>55454</td>\n",
       "      <td>554544400</td>\n",
       "      <td>NaN</td>\n",
       "      <td>NaN</td>\n",
       "    </tr>\n",
       "    <tr>\n",
       "      <th>3</th>\n",
       "      <td>104</td>\n",
       "      <td>55416</td>\n",
       "      <td>554162527</td>\n",
       "      <td>41</td>\n",
       "      <td>5</td>\n",
       "    </tr>\n",
       "    <tr>\n",
       "      <th>4</th>\n",
       "      <td>105</td>\n",
       "      <td>56441</td>\n",
       "      <td>564411422</td>\n",
       "      <td>58</td>\n",
       "      <td>7</td>\n",
       "    </tr>\n",
       "    <tr>\n",
       "      <th>5</th>\n",
       "      <td>106</td>\n",
       "      <td>56401</td>\n",
       "      <td>564013575</td>\n",
       "      <td>84</td>\n",
       "      <td>10</td>\n",
       "    </tr>\n",
       "    <tr>\n",
       "      <th>6</th>\n",
       "      <td>107</td>\n",
       "      <td>56636</td>\n",
       "      <td>566368779</td>\n",
       "      <td>90</td>\n",
       "      <td>10</td>\n",
       "    </tr>\n",
       "    <tr>\n",
       "      <th>7</th>\n",
       "      <td>108</td>\n",
       "      <td>56501</td>\n",
       "      <td>565013503</td>\n",
       "      <td>75</td>\n",
       "      <td>9</td>\n",
       "    </tr>\n",
       "    <tr>\n",
       "      <th>8</th>\n",
       "      <td>109</td>\n",
       "      <td>55063</td>\n",
       "      <td>550636026</td>\n",
       "      <td>63</td>\n",
       "      <td>8</td>\n",
       "    </tr>\n",
       "    <tr>\n",
       "      <th>9</th>\n",
       "      <td>110</td>\n",
       "      <td>56401</td>\n",
       "      <td>564013054</td>\n",
       "      <td>73</td>\n",
       "      <td>9</td>\n",
       "    </tr>\n",
       "    <tr>\n",
       "      <th>10</th>\n",
       "      <td>111</td>\n",
       "      <td>55807</td>\n",
       "      <td>558072730</td>\n",
       "      <td>73</td>\n",
       "      <td>9</td>\n",
       "    </tr>\n",
       "    <tr>\n",
       "      <th>11</th>\n",
       "      <td>112</td>\n",
       "      <td>55470</td>\n",
       "      <td>554071131</td>\n",
       "      <td>57</td>\n",
       "      <td>7</td>\n",
       "    </tr>\n",
       "    <tr>\n",
       "      <th>12</th>\n",
       "      <td>113</td>\n",
       "      <td>55987</td>\n",
       "      <td>559876435</td>\n",
       "      <td>51</td>\n",
       "      <td>7</td>\n",
       "    </tr>\n",
       "    <tr>\n",
       "      <th>13</th>\n",
       "      <td>114</td>\n",
       "      <td>55807</td>\n",
       "      <td>558072737</td>\n",
       "      <td>83</td>\n",
       "      <td>10</td>\n",
       "    </tr>\n",
       "    <tr>\n",
       "      <th>14</th>\n",
       "      <td>115</td>\n",
       "      <td>55404</td>\n",
       "      <td>554043074</td>\n",
       "      <td>71</td>\n",
       "      <td>9</td>\n",
       "    </tr>\n",
       "    <tr>\n",
       "      <th>15</th>\n",
       "      <td>116</td>\n",
       "      <td>55104</td>\n",
       "      <td>551044201</td>\n",
       "      <td>70</td>\n",
       "      <td>9</td>\n",
       "    </tr>\n",
       "    <tr>\n",
       "      <th>16</th>\n",
       "      <td>117</td>\n",
       "      <td>55409</td>\n",
       "      <td>554091304</td>\n",
       "      <td>33</td>\n",
       "      <td>3</td>\n",
       "    </tr>\n",
       "    <tr>\n",
       "      <th>17</th>\n",
       "      <td>118</td>\n",
       "      <td>55404</td>\n",
       "      <td>554044515</td>\n",
       "      <td>55</td>\n",
       "      <td>7</td>\n",
       "    </tr>\n",
       "    <tr>\n",
       "      <th>18</th>\n",
       "      <td>119</td>\n",
       "      <td>55054</td>\n",
       "      <td>550545483</td>\n",
       "      <td>24</td>\n",
       "      <td>2</td>\n",
       "    </tr>\n",
       "    <tr>\n",
       "      <th>19</th>\n",
       "      <td>120</td>\n",
       "      <td>55404</td>\n",
       "      <td>554042923</td>\n",
       "      <td>49</td>\n",
       "      <td>6</td>\n",
       "    </tr>\n",
       "    <tr>\n",
       "      <th>20</th>\n",
       "      <td>121</td>\n",
       "      <td>55303</td>\n",
       "      <td>553035566</td>\n",
       "      <td>NaN</td>\n",
       "      <td>NaN</td>\n",
       "    </tr>\n",
       "    <tr>\n",
       "      <th>21</th>\n",
       "      <td>122</td>\n",
       "      <td>55805</td>\n",
       "      <td>558051901</td>\n",
       "      <td>89</td>\n",
       "      <td>10</td>\n",
       "    </tr>\n",
       "  </tbody>\n",
       "</table>\n",
       "</div>"
      ],
      "text/plain": [
       "    Local Repository ID  Zip Code (5-digit)  Zip Code (9-digit) ADI_NATRANK  \\\n",
       "0                   101               55407           554074563          44   \n",
       "1                   102               56377           563771274          65   \n",
       "2                   103               55454           554544400         NaN   \n",
       "3                   104               55416           554162527          41   \n",
       "4                   105               56441           564411422          58   \n",
       "5                   106               56401           564013575          84   \n",
       "6                   107               56636           566368779          90   \n",
       "7                   108               56501           565013503          75   \n",
       "8                   109               55063           550636026          63   \n",
       "9                   110               56401           564013054          73   \n",
       "10                  111               55807           558072730          73   \n",
       "11                  112               55470           554071131          57   \n",
       "12                  113               55987           559876435          51   \n",
       "13                  114               55807           558072737          83   \n",
       "14                  115               55404           554043074          71   \n",
       "15                  116               55104           551044201          70   \n",
       "16                  117               55409           554091304          33   \n",
       "17                  118               55404           554044515          55   \n",
       "18                  119               55054           550545483          24   \n",
       "19                  120               55404           554042923          49   \n",
       "20                  121               55303           553035566         NaN   \n",
       "21                  122               55805           558051901          89   \n",
       "\n",
       "   ADI_STATERANK  \n",
       "0              5  \n",
       "1              8  \n",
       "2            NaN  \n",
       "3              5  \n",
       "4              7  \n",
       "5             10  \n",
       "6             10  \n",
       "7              9  \n",
       "8              8  \n",
       "9              9  \n",
       "10             9  \n",
       "11             7  \n",
       "12             7  \n",
       "13            10  \n",
       "14             9  \n",
       "15             9  \n",
       "16             3  \n",
       "17             7  \n",
       "18             2  \n",
       "19             6  \n",
       "20           NaN  \n",
       "21            10  "
      ]
     },
     "execution_count": 31,
     "metadata": {},
     "output_type": "execute_result"
    }
   ],
   "source": [
    "# Merge clean_local_df and clean_state_df so that we can get the ADI rank of each local repository\n",
    "local_adi_df = pd.merge(clean_local_df,clean_state_df, how=\"left\", on=[\"Zip Code (9-digit)\", \"Zip Code (9-digit)\"])\n",
    "local_adi_df.head(1000)"
   ]
  },
  {
   "cell_type": "markdown",
   "id": "6f1ec9d8",
   "metadata": {},
   "source": [
    "1.using geoapify (https://apidocs.geoapify.com/docs/geocoding/forward-geocoding/#geocode-zipcodes) add lat and lon columns as well get a county column to pt_adi_df and local_adi_df. get county column added to clean_state_df.\n",
    "    - Ayan\n",
    "    Travis\n",
    "\n",
    "make the maps\n",
    "\n",
    "2. get mean, mode for pt_adi_df ADI_STATERANK and ADI_NATRANK\n",
    "    - Kokoe\n",
    "\n",
    "make bar charts y = # of pts, x = ADIs core for pt_adi_df. state ranks only\n",
    "    - Roli\n",
    "\n",
    "3. pie chart ADI scores\n",
    "    - Joanna\n",
    "\n",
    "4. health access / health outcomes vs adi score per county\n",
    "\n",
    "to create a new branch:     git checkout -b new-branch-name\n",
    "to push to a branch:        git push origin new-branch-name\n",
    "\n",
    "10 AM GROUP ON SATURDAY\n",
    "\n",
    "2:30 GROUP ON SATURDAY\n"
   ]
  },
  {
   "cell_type": "code",
   "execution_count": 73,
   "id": "32e409cb",
   "metadata": {},
   "outputs": [
    {
     "data": {
      "text/plain": [
       "array([10,  8,  7,  1,  6,  5,  4,  9,  3,  2])"
      ]
     },
     "execution_count": 73,
     "metadata": {},
     "output_type": "execute_result"
    }
   ],
   "source": [
    "pt_adi_df['ADI_STATERANK'] = pt_adi_df['ADI_STATERANK'].astype(int)\n",
    "\n",
    "pt_adi_df['ADI_STATERANK'].unique()\n"
   ]
  },
  {
   "cell_type": "markdown",
   "id": "7fa13074",
   "metadata": {},
   "source": [
    "# Visualization\n",
    "*Bar Chart*"
   ]
  },
  {
   "cell_type": "code",
   "execution_count": 80,
   "id": "9e918802",
   "metadata": {},
   "outputs": [
    {
     "data": {
      "image/png": "[encoded data removed]",
      "text/plain": [
       "<Figure size 640x480 with 1 Axes>"
      ]
     },
     "metadata": {},
     "output_type": "display_data"
    }
   ],
   "source": [
    "#barcharts for ADI scores for state ranks\n",
    "API_state = pt_adi_df['ADI_STATERANK'].value_counts()\n",
    "API_state.plot(kind = \"bar\",color ='#038cfc')\n",
    "\n",
    "plt.xlabel('ADI_STATERANK')\n",
    "plt.ylabel(\"Number of Patients\")\n",
    "plt.title(\"Frequency Of State ADI Scores in Total Patients\")\n",
    "plt.xticks(rotation = 'horizontal')\n",
    "plt.show()"
   ]
  },
  {
   "cell_type": "code",
   "execution_count": null,
   "id": "f49b6d0c",
   "metadata": {},
   "outputs": [],
   "source": []
  }
 ],
 "metadata": {
  "kernelspec": {
   "display_name": "Python 3 (ipykernel)",
   "language": "python",
   "name": "python3"
  },
  "language_info": {
   "codemirror_mode": {
    "name": "ipython",
    "version": 3
   },
   "file_extension": ".py",
   "mimetype": "text/x-python",
   "name": "python",
   "nbconvert_exporter": "python",
   "pygments_lexer": "ipython3",
   "version": "3.10.11"
  }
 },
 "nbformat": 4,
 "nbformat_minor": 5
}
